{
 "cells": [
  {
   "cell_type": "markdown",
   "id": "027331ba",
   "metadata": {},
   "source": [
    "# 🎬 IMDb Review Sentiment & Summary (RAG + IBM Granite)\n",
    "\n",
    "Notebook ini mendemonstrasikan pipeline RAG (Retrieval-Augmented Generation) untuk mengklasifikasikan sentimen dan merangkum ulasan film menggunakan model IBM Granite via Replicate."
   ]
  },
  {
   "cell_type": "code",
   "execution_count": null,
   "id": "82a0e196",
   "metadata": {},
   "outputs": [],
   "source": [
    "!pip install faiss-cpu replicate scikit-learn langdetect python-dotenv\n"
   ]
  },
  {
   "cell_type": "code",
   "execution_count": null,
   "id": "a67a8389",
   "metadata": {},
   "outputs": [],
   "source": [
    "import pandas as pd\n",
    "import faiss\n",
    "import numpy as np\n",
    "from sklearn.feature_extraction.text import TfidfVectorizer\n",
    "import replicate\n",
    "import os\n",
    "from langdetect import detect\n",
    "from dotenv import load_dotenv\n",
    "\n",
    "load_dotenv()\n",
    "os.environ[\"REPLICATE_API_TOKEN\"] = os.getenv(\"REPLICATE_API_TOKEN\", \"PASTE_YOUR_KEY_IF_NOT_USING_ENV\")\n"
   ]
  },
  {
   "cell_type": "code",
   "execution_count": null,
   "id": "2580966c",
   "metadata": {},
   "outputs": [],
   "source": [
    "# Upload atau mount drive untuk akses file\n",
    "from google.colab import files\n",
    "uploaded = files.upload()\n",
    "df = pd.read_csv(\"IMDB_Dataset.csv\")\n",
    "df.head()\n"
   ]
  },
  {
   "cell_type": "code",
   "execution_count": null,
   "id": "4bb1d63b",
   "metadata": {},
   "outputs": [],
   "source": [
    "vectorizer = TfidfVectorizer(stop_words='english', max_features=5000)\n",
    "tfidf_matrix = vectorizer.fit_transform(df['review'])\n",
    "embeddings = tfidf_matrix.toarray().astype('float32')\n",
    "\n",
    "index = faiss.IndexFlatL2(embeddings.shape[1])\n",
    "index.add(embeddings)\n",
    "print(f\"FAISS index built with {index.ntotal} documents.\")\n"
   ]
  },
  {
   "cell_type": "code",
   "execution_count": null,
   "id": "c9c44708",
   "metadata": {},
   "outputs": [],
   "source": [
    "def retrieve_reviews(query, top_k=3):\n",
    "    query_vec = vectorizer.transform([query]).toarray().astype('float32')\n",
    "    distances, indices = index.search(query_vec, top_k)\n",
    "    return df.iloc[indices[0]]['review'].tolist()\n"
   ]
  },
  {
   "cell_type": "code",
   "execution_count": null,
   "id": "286032b4",
   "metadata": {},
   "outputs": [],
   "source": [
    "def build_prompt(reviews, lang):\n",
    "    context = \"\\n\\n\".join(reviews)\n",
    "    if lang == 'id':\n",
    "        system_prompt = \"Kamu adalah asisten AI yang mengklasifikasikan dan meringkas ulasan film. Jawablah dalam Bahasa Indonesia.\"\n",
    "        prompt = f\"Klasifikasikan dan ringkas review berikut:\\n\\n{context}\\n\\nFormat:\\nSentimen: [Positif/Negatif]\\nRingkasan: [Satu kalimat]\\nAlasan: [Penjelasan singkat]\"\n",
    "    else:\n",
    "        system_prompt = \"You are an AI assistant that classifies and summarizes movie reviews.\"\n",
    "        prompt = f\"Classify and summarize the following reviews:\\n\\n{context}\\n\\nFormat:\\nSentiment: [Positive/Negative]\\nSummary: [One-sentence summary]\\nReason: [Short explanation]\"\n",
    "    return system_prompt, prompt\n"
   ]
  },
  {
   "cell_type": "code",
   "execution_count": null,
   "id": "dcb37912",
   "metadata": {},
   "outputs": [],
   "source": [
    "def query_model(prompt, system_prompt):\n",
    "    output = replicate.run(\n",
    "        \"ibm-granite/granite-3.3-8b-instruct\",\n",
    "        input={\"prompt\": prompt, \"system_prompt\": system_prompt}\n",
    "    )\n",
    "    return \"\".join(output)\n"
   ]
  },
  {
   "cell_type": "code",
   "execution_count": null,
   "id": "4ab121c6",
   "metadata": {},
   "outputs": [],
   "source": [
    "query = input(\"Masukkan review atau topik pencarian: \")\n",
    "lang = detect(query)\n",
    "retrieved = retrieve_reviews(query)\n",
    "system_prompt, user_prompt = build_prompt(retrieved, lang)\n",
    "result = query_model(user_prompt, system_prompt)\n",
    "\n",
    "print(\"\\n--- RESULT ---\\n\")\n",
    "print(result)\n"
   ]
  }
 ],
 "metadata": {},
 "nbformat": 4,
 "nbformat_minor": 5
}
